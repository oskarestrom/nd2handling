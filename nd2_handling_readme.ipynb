{
 "cells": [
  {
   "cell_type": "markdown",
   "id": "959d80fd",
   "metadata": {
    "toc": true
   },
   "source": [
    "<h1>Table of Contents<span class=\"tocSkip\"></span></h1>\n",
    "<div class=\"toc\"><ul class=\"toc-item\"><li><span><a href=\"#Description\" data-toc-modified-id=\"Description-1\"><span class=\"toc-item-num\">1&nbsp;&nbsp;</span>Description</a></span></li><li><span><a href=\"#Dependencies\" data-toc-modified-id=\"Dependencies-2\"><span class=\"toc-item-num\">2&nbsp;&nbsp;</span>Dependencies</a></span></li><li><span><a href=\"#nd2reader\" data-toc-modified-id=\"nd2reader-3\"><span class=\"toc-item-num\">3&nbsp;&nbsp;</span>nd2reader</a></span></li><li><span><a href=\"#pims-ND2_Reader\" data-toc-modified-id=\"pims-ND2_Reader-4\"><span class=\"toc-item-num\">4&nbsp;&nbsp;</span>pims ND2_Reader</a></span></li><li><span><a href=\"#List-all-nd2-files-in-a-folder-tree-to-an-excel-spreadsheet\" data-toc-modified-id=\"List-all-nd2-files-in-a-folder-tree-to-an-excel-spreadsheet-5\"><span class=\"toc-item-num\">5&nbsp;&nbsp;</span>List all nd2 files in a folder tree to an excel spreadsheet</a></span></li><li><span><a href=\"#Loop-the-above-script-for-many-directories\" data-toc-modified-id=\"Loop-the-above-script-for-many-directories-6\"><span class=\"toc-item-num\">6&nbsp;&nbsp;</span>Loop the above script for many directories</a></span></li><li><span><a href=\"#Loading-a-nd2-file-with-its-metadata\" data-toc-modified-id=\"Loading-a-nd2-file-with-its-metadata-7\"><span class=\"toc-item-num\">7&nbsp;&nbsp;</span>Loading a nd2 file with its metadata</a></span></li><li><span><a href=\"#Loading-only-the-metadata-of-an-nd2-file\" data-toc-modified-id=\"Loading-only-the-metadata-of-an-nd2-file-8\"><span class=\"toc-item-num\">8&nbsp;&nbsp;</span>Loading only the metadata of an nd2 file</a></span></li></ul></div>"
   ]
  },
  {
   "cell_type": "markdown",
   "id": "111844e7",
   "metadata": {},
   "source": [
    "# nd2_handling v0.0.1 readme"
   ]
  },
  {
   "cell_type": "markdown",
   "id": "c558533f",
   "metadata": {},
   "source": [
    "### Description"
   ]
  },
  {
   "cell_type": "markdown",
   "id": "7126d7c0",
   "metadata": {},
   "source": [
    "This is a module with scripts related to handling nd2 files. You can use it to load nd2 files and their metadata. You can also use it to gather all metadata of a folder tree into an excel sheet. If any of the metadata you need is not being gathered, please tell me and I can make sure it is added."
   ]
  },
  {
   "cell_type": "markdown",
   "id": "5458df83",
   "metadata": {},
   "source": [
    "### Dependencies"
   ]
  },
  {
   "cell_type": "markdown",
   "id": "fef37401",
   "metadata": {},
   "source": [
    "**In order for this script to work, you need to install the following modules:**\n",
    "\n",
    "- pip install nd2reader\n",
    "- pip install pims-nd2\n",
    "\n",
    "**You also need the more general modules pandas and numpy:**\n",
    "- pip install pandas\n",
    "- pip install numpy\n",
    "\n",
    "**Version info**:\n",
    "- pims-nd2        >= 1.1, < 2\n",
    "- nd2reader        >= 3.3.0, < 4\n",
    "- pandas        >= 1.3.3,   < 2\n",
    "- numpy             >= 1.19,  < 2\n"
   ]
  },
  {
   "cell_type": "markdown",
   "id": "0936ec89",
   "metadata": {},
   "source": [
    "# What metadata is available?"
   ]
  },
  {
   "cell_type": "markdown",
   "id": "83f33f34",
   "metadata": {},
   "source": [
    "There are two libraries I use that can read nd2 metadata, nd2reader and pims. The following code will extract metadata using them separately:"
   ]
  },
  {
   "cell_type": "markdown",
   "id": "04a56bd6",
   "metadata": {},
   "source": [
    "### nd2reader"
   ]
  },
  {
   "cell_type": "markdown",
   "id": "d686322b",
   "metadata": {},
   "source": [
    "https://rbnvrw.github.io/nd2reader/tutorial.html#nd2-metadata"
   ]
  },
  {
   "cell_type": "code",
   "execution_count": 10,
   "id": "5e1729d6",
   "metadata": {
    "ExecuteTime": {
     "end_time": "2021-10-06T16:43:44.148413Z",
     "start_time": "2021-10-06T16:43:44.099414Z"
    },
    "scrolled": false
   },
   "outputs": [
    {
     "name": "stdout",
     "output_type": "stream",
     "text": [
      "All metadata:\n",
      "[   47.74687839    54.95070839    62.15453839 ... 22768.6266984\n",
      " 22775.8305284  22783.0343584 ]\n",
      "<class 'numpy.float64'>\n",
      "[{'index': 1, 'time': 7.10418841894716, 'type': 7, 'name': 'Command Executed'}, {'index': 2, 'time': 30161.892754001543, 'type': 7, 'name': 'Command Executed'}]\n",
      "\n",
      "{'height': 124,\n",
      "'width': 512,\n",
      "'date': None,\n",
      "'fields_of_view': [0],\n",
      "'frames': range(0, 3846),\n",
      "'z_levels': [],\n",
      "'total_images_per_channel': 3157,\n",
      "'channels': ['Mono'],\n",
      "'pixel_microns': 0.817760914884417,\n",
      "'num_frames': 3846,\n",
      "'experiment': {'description': 'DNA DLD', 'loops': [{'start': 0, 'duration': 0, 'stimulation': False, 'sampling_interval': 0.0}]},\n",
      "'events': [{'index': 1, 'time': 7.10418841894716, 'type': 7, 'name': 'Command Executed'}, {'index': 2, 'time': 30161.892754001543, 'type': 7, 'name': 'Command Executed'}],}\n",
      "\n",
      "\n",
      "{'x': 512, 'y': 124, 't': 3846}\n"
     ]
    }
   ],
   "source": [
    "import os\n",
    "file_path = r'E:\\DNA waves project\\Polarisation exp\\2021-06-03_lambda_400nguL_1_200\\100mbar\\100xOil_100mbar_pol-none_mid_solis100_019.nd2'\n",
    "\n",
    "from nd2reader import ND2Reader\n",
    "\n",
    "with ND2Reader(file_path) as img:\n",
    "    print('All metadata:')\n",
    "    frame_rate = img.frame_rate\n",
    "    time_steps = img.get_timesteps()\n",
    "    print(img.get_timesteps())\n",
    "    print(img.pixel_type)\n",
    "    print(img.events)\n",
    "    exposure_times = img.parser._raw_metadata.camera_exposure_time\n",
    "    avg_exposure_time = np.mean(exposure_times)\n",
    "    acquisition_times = img.parser._raw_metadata.acquisition_times\n",
    "    print(\"\\n{\" + \"\\n\".join(\"{!r}: {!r},\".format(k, v) for k, v in img.metadata.items() if (not k=='z_coordinates')) + \"}\") \n",
    "    print('\\n')\n",
    "    print(img.sizes)\n"
   ]
  },
  {
   "cell_type": "markdown",
   "id": "be017d0b",
   "metadata": {},
   "source": [
    "### pims ND2_Reader"
   ]
  },
  {
   "cell_type": "markdown",
   "id": "1517540d",
   "metadata": {},
   "source": [
    "https://pypi.org/project/pims-nd2/"
   ]
  },
  {
   "cell_type": "code",
   "execution_count": 1,
   "id": "838e8db5",
   "metadata": {
    "ExecuteTime": {
     "end_time": "2021-11-02T16:01:27.103168Z",
     "start_time": "2021-11-02T16:01:24.619369Z"
    }
   },
   "outputs": [
    {
     "name": "stderr",
     "output_type": "stream",
     "text": [
      "C:\\Users\\os4875st\\Anaconda3\\lib\\site-packages\\pims\\api.py:119: UserWarning: 'ND2_Reader' has been renamed to 'ND2Reader_SDK' and will beremoved in future pims versions. Please use the new name, or try out the pure-Python one named `ND2Reader`.\n",
      "  warn(\"'ND2_Reader' has been renamed to 'ND2Reader_SDK' and will be\"\n"
     ]
    },
    {
     "name": "stdout",
     "output_type": "stream",
     "text": [
      "All metadata:\n",
      "{'width': 378,\n",
      "'width_bytes': 756,\n",
      "'height': 92,\n",
      "'components': 1,\n",
      "'bitsize_memory': 16,\n",
      "'bitsize_significant': 16,\n",
      "'sequence_count': 4935,\n",
      "'tile_width': 378,\n",
      "'tile_height': 92,\n",
      "'compression': None,\n",
      "'compression_quality': 4294967197,\n",
      "'plane_count': 1,\n",
      "'angle': 0.0,\n",
      "'calibration_um': 0.817760914884417,\n",
      "'time_start_jdn': 2459382.0763742593,\n",
      "'time_start': datetime.datetime(2021, 6, 16, 15, 49, 58, 736005),\n",
      "'time_start_utc': datetime.datetime(2021, 6, 16, 13, 49, 58, 736005),\n",
      "'objective': 'S Plan Fluor ELWD 20x DIC N1',\n",
      "'magnification': -1.0,\n",
      "'NA': 0.45,\n",
      "'refractive_index1': 1.0,\n",
      "'refractive_index2': 1.0,\n",
      "'pinhole': 0.0,\n",
      "'zoom': 1.0,\n",
      "'projective_mag': -1.0,\n",
      "'image_type': 'normal',\n",
      "'z_home': None,\n",
      "'frame_rate': 164.799760051555,\n",
      "'plane_0': {'components': 1, 'rgb_value': (1.0, 1.0, 1.0), 'name': 'New', 'oc': '1x1 bin', 'emission_nm': 0.0},}\n",
      "\n",
      "\n",
      "Single frame Metadata:\n",
      "{'x_um': 1304.927978515625,\n",
      "'y_um': -4146.3232421875,\n",
      "'z_um': 1.41650028,\n",
      "'t_ms': 99.01787459850311,\n",
      "'colors': [(1.0, 1.0, 1.0)],\n",
      "'mpp': 0.817760914884417,\n",
      "'max_value': 65535,\n",
      "'x': 0,\n",
      "'y': 0,\n",
      "'t': 5,\n",
      "'axes': ['y', 'x'],\n",
      "'coords': {'t': 5},}\n",
      "\n"
     ]
    },
    {
     "name": "stderr",
     "output_type": "stream",
     "text": [
      "C:\\Users\\os4875st\\Anaconda3\\lib\\site-packages\\pims\\base_frames.py:472: UserWarning: Please call FramesSequenceND.__init__() at the start of thethe reader initialization.\n",
      "  warn(\"Please call FramesSequenceND.__init__() at the start of the\"\n"
     ]
    }
   ],
   "source": [
    "from pims import ND2_Reader #does not work for files with 3846 frames\n",
    "file_path = r'E:\\DNA waves project\\Polarisation exp\\2021-06-16_lambda_400nguL_1_200_optosplit\\100xOil_500mbar_C2017_sola100_010.nd2'\n",
    "try:\n",
    "    with ND2_Reader(file_path) as frames:\n",
    "    #frames[82]  # display frame 82\n",
    "        print('All metadata:')\n",
    "        print(\"{\" + \"\\n\".join(\"{!r}: {!r},\".format(k, v) for k, v in frames.metadata.items()) + \"}\")\n",
    "        print('\\n\\nSingle frame Metadata:')\n",
    "        print(\"{\" + \"\\n\".join(\"{!r}: {!r},\".format(k, v) for k, v in frames[5].metadata.items()) + \"}\")\n",
    "\n",
    "        # for f in frames:\n",
    "        #     print(f.metadata['t_ms'])\n",
    "\n",
    "        frames.close()\n",
    "except:\n",
    "    print('Caught an error')\n",
    "finally:\n",
    "    print('')"
   ]
  },
  {
   "cell_type": "markdown",
   "id": "a0e03318",
   "metadata": {},
   "source": [
    "# Using nd2_handling.py"
   ]
  },
  {
   "cell_type": "markdown",
   "id": "8f3a8170",
   "metadata": {},
   "source": [
    "### List all nd2 files in a folder tree to an excel spreadsheet"
   ]
  },
  {
   "cell_type": "code",
   "execution_count": 7,
   "id": "cd516efb",
   "metadata": {
    "ExecuteTime": {
     "end_time": "2021-11-02T16:15:50.663948Z",
     "start_time": "2021-11-02T16:15:39.135961Z"
    }
   },
   "outputs": [
    {
     "name": "stdout",
     "output_type": "stream",
     "text": [
      "module ND2Reader caught an error for the file (ignoring this file)\n",
      "\tE:\\DNA waves project\\Higher viscosity waves\\2021-10-25 40% sucrose 50 nguL\\bg\\100x_sola100_034.nd2\n",
      "\t Exposure time will not be extracted\n",
      "module ND2Reader caught an error for the file (ignoring this file)\n",
      "\tE:\\DNA waves project\\Higher viscosity waves\\2021-10-25 40% sucrose 50 nguL\\bg\\100x_withoutBF_sola100_037.nd2\n",
      "\t Exposure time will not be extracted\n",
      "module ND2Reader caught an error for the file (ignoring this file)\n",
      "\tE:\\DNA waves project\\Higher viscosity waves\\2021-10-25 40% sucrose 50 nguL\\bg\\10x_sola100_035.nd2\n",
      "\t Exposure time will not be extracted\n",
      "module ND2Reader caught an error for the file (ignoring this file)\n",
      "\tE:\\DNA waves project\\Higher viscosity waves\\2021-10-25 40% sucrose 50 nguL\\bg\\20x_sola100_036.nd2\n",
      "\t Exposure time will not be extracted\n",
      "module ND2Reader caught an error for the file (ignoring this file)\n",
      "\tE:\\DNA waves project\\Higher viscosity waves\\2021-10-25 40% sucrose 50 nguL\\PIV_two-color\\1000mbar\\100x_1000mbar_200nm_sola100_049.nd2\n",
      "\t Exposure time will not be extracted\n",
      "module ND2Reader caught an error for the file (ignoring this file)\n",
      "\tE:\\DNA waves project\\Higher viscosity waves\\2021-10-25 40% sucrose 50 nguL\\PIV_two-color\\1000mbar\\100x_1000mbar_84fps_200nm_sola100_050.nd2\n",
      "\t Exposure time will not be extracted\n",
      "module ND2Reader caught an error for the file (ignoring this file)\n",
      "\tE:\\DNA waves project\\Higher viscosity waves\\2021-10-25 40% sucrose 50 nguL\\PIV_two-color\\1000mbar\\20x_1000mbar_200nm_sola100_042.nd2\n",
      "\t Exposure time will not be extracted\n",
      "module ND2Reader caught an error for the file (ignoring this file)\n",
      "\tE:\\DNA waves project\\Higher viscosity waves\\2021-10-25 40% sucrose 50 nguL\\PIV_two-color\\100mbar\\100x_100mbar_200nm_sola100_046.nd2\n",
      "\t Exposure time will not be extracted\n",
      "module ND2Reader caught an error for the file (ignoring this file)\n",
      "\tE:\\DNA waves project\\Higher viscosity waves\\2021-10-25 40% sucrose 50 nguL\\PIV_two-color\\100mbar\\100x_100mbar_84fps_200nm_sola100_054.nd2\n",
      "\t Exposure time will not be extracted\n",
      "module ND2Reader caught an error for the file (ignoring this file)\n",
      "\tE:\\DNA waves project\\Higher viscosity waves\\2021-10-25 40% sucrose 50 nguL\\PIV_two-color\\100mbar\\100x_200mbar_200nm_sola100_047.nd2\n",
      "\t Exposure time will not be extracted\n",
      "module ND2Reader caught an error for the file (ignoring this file)\n",
      "\tE:\\DNA waves project\\Higher viscosity waves\\2021-10-25 40% sucrose 50 nguL\\PIV_two-color\\100mbar\\100x_500mbar_84fps_200nm_sola100_055.nd2\n",
      "\t Exposure time will not be extracted\n",
      "module ND2Reader caught an error for the file (ignoring this file)\n",
      "\tE:\\DNA waves project\\Higher viscosity waves\\2021-10-25 40% sucrose 50 nguL\\PIV_two-color\\100mbar\\20x_100mbar_200nm_sola100_041.nd2\n",
      "\t Exposure time will not be extracted\n",
      "module ND2Reader caught an error for the file (ignoring this file)\n",
      "\tE:\\DNA waves project\\Higher viscosity waves\\2021-10-25 40% sucrose 50 nguL\\PIV_two-color\\10mbar\\100x_10mbar_200nm_sola100_043.nd2\n",
      "\t Exposure time will not be extracted\n",
      "module ND2Reader caught an error for the file (ignoring this file)\n",
      "\tE:\\DNA waves project\\Higher viscosity waves\\2021-10-25 40% sucrose 50 nguL\\PIV_two-color\\2000mbar\\100x_2000mbar_84fps_200nm_sola100_056.nd2\n",
      "\t Exposure time will not be extracted\n",
      "module ND2Reader caught an error for the file (ignoring this file)\n",
      "\tE:\\DNA waves project\\Higher viscosity waves\\2021-10-25 40% sucrose 50 nguL\\PIV_two-color\\200mbar\\100x_100mbar_84fps_200nm_sola100_053.nd2\n",
      "\t Exposure time will not be extracted\n",
      "module ND2Reader caught an error for the file (ignoring this file)\n",
      "\tE:\\DNA waves project\\Higher viscosity waves\\2021-10-25 40% sucrose 50 nguL\\PIV_two-color\\200mbar\\100x_200mbar_84fps_200nm_sola100_052.nd2\n",
      "\t Exposure time will not be extracted\n",
      "module ND2Reader caught an error for the file (ignoring this file)\n",
      "\tE:\\DNA waves project\\Higher viscosity waves\\2021-10-25 40% sucrose 50 nguL\\PIV_two-color\\200nm_red_beads_in_water\\100x_100000xDil_sola100_038.nd2\n",
      "\t Exposure time will not be extracted\n",
      "module ND2Reader caught an error for the file (ignoring this file)\n",
      "\tE:\\DNA waves project\\Higher viscosity waves\\2021-10-25 40% sucrose 50 nguL\\PIV_two-color\\200nm_red_beads_in_water\\100x_10000xDil_sola100_039.nd2\n",
      "\t Exposure time will not be extracted\n",
      "module ND2Reader caught an error for the file (ignoring this file)\n",
      "\tE:\\DNA waves project\\Higher viscosity waves\\2021-10-25 40% sucrose 50 nguL\\PIV_two-color\\20mbar\\100x_20mbar_200nm_sola100_044.nd2\n",
      "\t Exposure time will not be extracted\n",
      "module ND2Reader caught an error for the file (ignoring this file)\n",
      "\tE:\\DNA waves project\\Higher viscosity waves\\2021-10-25 40% sucrose 50 nguL\\PIV_two-color\\300mbar\\100x_300mbar_84fps_200nm_sola100_051.nd2\n",
      "\t Exposure time will not be extracted\n",
      "module ND2Reader caught an error for the file (ignoring this file)\n",
      "\tE:\\DNA waves project\\Higher viscosity waves\\2021-10-25 40% sucrose 50 nguL\\PIV_two-color\\500mbar\\100x_2000mbar_200nm_sola100_061.nd2\n",
      "\t Exposure time will not be extracted\n",
      "module ND2Reader caught an error for the file (ignoring this file)\n",
      "\tE:\\DNA waves project\\Higher viscosity waves\\2021-10-25 40% sucrose 50 nguL\\PIV_two-color\\500mbar\\100x_2000mbar_loc2_200nm_sola100_062.nd2\n",
      "\t Exposure time will not be extracted\n",
      "module ND2Reader caught an error for the file (ignoring this file)\n",
      "\tE:\\DNA waves project\\Higher viscosity waves\\2021-10-25 40% sucrose 50 nguL\\PIV_two-color\\500mbar\\100x_2000mbar_loc3_200nm_sola100_063.nd2\n",
      "\t Exposure time will not be extracted\n",
      "module ND2Reader caught an error for the file (ignoring this file)\n",
      "\tE:\\DNA waves project\\Higher viscosity waves\\2021-10-25 40% sucrose 50 nguL\\PIV_two-color\\500mbar\\100x_2000mbar_loc4_200nm_sola100_064.nd2\n",
      "\t Exposure time will not be extracted\n",
      "module ND2Reader caught an error for the file (ignoring this file)\n",
      "\tE:\\DNA waves project\\Higher viscosity waves\\2021-10-25 40% sucrose 50 nguL\\PIV_two-color\\500mbar\\100x_2000mbar_loc4_200nm_sola100_065.nd2\n",
      "\t Exposure time will not be extracted\n",
      "module ND2Reader caught an error for the file (ignoring this file)\n",
      "\tE:\\DNA waves project\\Higher viscosity waves\\2021-10-25 40% sucrose 50 nguL\\PIV_two-color\\500mbar\\100x_2000mbar_loc4_200nm_sola100_066.nd2\n",
      "\t Exposure time will not be extracted\n",
      "module ND2Reader caught an error for the file (ignoring this file)\n",
      "\tE:\\DNA waves project\\Higher viscosity waves\\2021-10-25 40% sucrose 50 nguL\\PIV_two-color\\500mbar\\100x_2000mbar_loc4_200nm_sola100_067.nd2\n",
      "\t Exposure time will not be extracted\n",
      "module ND2Reader caught an error for the file (ignoring this file)\n",
      "\tE:\\DNA waves project\\Higher viscosity waves\\2021-10-25 40% sucrose 50 nguL\\PIV_two-color\\500mbar\\100x_2000mbar_loc6_200nm_sola100_068.nd2\n",
      "\t Exposure time will not be extracted\n",
      "module ND2Reader caught an error for the file (ignoring this file)\n",
      "\tE:\\DNA waves project\\Higher viscosity waves\\2021-10-25 40% sucrose 50 nguL\\PIV_two-color\\500mbar\\100x_500mbar_200nm_sola100_048.nd2\n",
      "\t Exposure time will not be extracted\n",
      "module ND2Reader caught an error for the file (ignoring this file)\n",
      "\tE:\\DNA waves project\\Higher viscosity waves\\2021-10-25 40% sucrose 50 nguL\\PIV_two-color\\50mbar\\100x_50mbar_200nm_sola100_045.nd2\n",
      "\t Exposure time will not be extracted\n",
      "module ND2Reader caught an error for the file (ignoring this file)\n",
      "\tE:\\DNA waves project\\Higher viscosity waves\\2021-10-25 40% sucrose 50 nguL\\PIV_two-color\\bg\\100x_sola100_075.nd2\n",
      "\t Exposure time will not be extracted\n",
      "module ND2Reader caught an error for the file (ignoring this file)\n",
      "\tE:\\DNA waves project\\Higher viscosity waves\\2021-10-25 40% sucrose 50 nguL\\PIV_two-color\\bg\\20x_sola100_074.nd2\n",
      "\t Exposure time will not be extracted\n"
     ]
    }
   ],
   "source": [
    "import nd2_handling\n",
    "import importlib\n",
    "importlib.reload(nd2_handling)\n",
    "\n",
    "#Set the path of the experiment directory\n",
    "dir_path = r'E:\\DNA waves project\\Higher viscosity waves\\2021-10-25 40% sucrose 50 nguL'\n",
    "nd2_handling.nd2_file_infos_to_spreadsheet(dir_path, read_time_steps=False, read_xy_pos=False, read_file_name_info=True)"
   ]
  },
  {
   "cell_type": "markdown",
   "id": "7b666938",
   "metadata": {},
   "source": [
    "### Loop the above script for many directories"
   ]
  },
  {
   "cell_type": "code",
   "execution_count": 18,
   "id": "db5f919f",
   "metadata": {
    "ExecuteTime": {
     "end_time": "2021-10-06T16:52:56.739627Z",
     "start_time": "2021-10-06T16:52:32.090065Z"
    }
   },
   "outputs": [
    {
     "name": "stdout",
     "output_type": "stream",
     "text": [
      "Handling 2021-06-02_lambda_50nguL_YOYO-3\n",
      "Handling 2021-06-03 calibration\n",
      "ND2Reader caught an error for file (ignoring this file)\n",
      "\tE:\\DNA waves project\\Polarisation exp\\2021-06-03 calibration\\10x_in_001.nd2\n",
      "ND2Reader caught an error for file (ignoring this file)\n",
      "\tE:\\DNA waves project\\Polarisation exp\\2021-06-03 calibration\\10x_out_001.nd2\n",
      "Handling 2021-06-03_lambda_400nguL_1_200\n",
      "Caught an error for file (ignoring this file)\n",
      "\tE:\\DNA waves project\\Polarisation exp\\2021-06-03_lambda_400nguL_1_200\\100mbar\\100xOil_100mbar_pol-none_mid_solis100_019.nd2\n",
      "\n",
      "\tframes =  3157\n",
      "ND2Reader caught an error for file (ignoring this file)\n",
      "\tE:\\DNA waves project\\Polarisation exp\\2021-06-03_lambda_400nguL_1_200\\bg\\10x_solis100_039.nd2\n",
      "ND2Reader caught an error for file (ignoring this file)\n",
      "\tE:\\DNA waves project\\Polarisation exp\\2021-06-03_lambda_400nguL_1_200\\bg\\20x_solis100_040.nd2\n",
      "Handling 2021-06-07_lambda_40nlul_Y3_1_10_prepforsted\n",
      "ND2Reader caught an error for file (ignoring this file)\n",
      "\tE:\\DNA waves project\\Polarisation exp\\2021-06-07_lambda_40nlul_Y3_1_10_prepforsted\\20x_solis100_041.nd2\n",
      "Handling 2021-06-16_lambda_400nguL_1_200_optosplit\n",
      "File naming error: Could not extract the file number from the file 100xOil_100mbar_rot45deg_sola100_071_laggy.nd2\n",
      "Handling 2021-09-27 hex 400 nguL polarisation\n",
      "Handling 2021-09-29 control 400nguL polarisation\n",
      "ND2Reader caught an error for file (ignoring this file)\n",
      "\tE:\\DNA waves project\\Polarisation exp\\2021-09-29 control 400nguL polarisation\\308mbar\\100x_308mbar_ET19ms_10s_sola20_031.nd2\n",
      "ND2Reader caught an error for file (ignoring this file)\n",
      "\tE:\\DNA waves project\\Polarisation exp\\2021-09-29 control 400nguL polarisation\\bg\\10x__sola100_034.nd2\n"
     ]
    }
   ],
   "source": [
    "#Set the path of the main directory\n",
    "dir_main = r'E:\\DNA waves project\\Polarisation exp'\n",
    "\n",
    "nd2_handling.get_nd2_lists_for_all_subfolders(dir_main, read_file_name_info=True)"
   ]
  },
  {
   "cell_type": "markdown",
   "id": "cd90ba73",
   "metadata": {},
   "source": [
    "### Loading a nd2 file with its metadata"
   ]
  },
  {
   "cell_type": "code",
   "execution_count": 3,
   "id": "d1c7a0a6",
   "metadata": {
    "ExecuteTime": {
     "end_time": "2021-11-29T16:30:20.017373Z",
     "start_time": "2021-11-29T16:30:10.837198Z"
    },
    "scrolled": false
   },
   "outputs": [
    {
     "name": "stdout",
     "output_type": "stream",
     "text": [
      "\tReading file 100xOil_500mbar_C2017_sola100_010.nd2 in folder 2021-06-16_lambda_400nguL_1_200_optosplit\n",
      "\tRead 4935 uint16 frame(s) from 100xOil_500mbar_C2017_sola100_010.nd2 in 8.90 seconds\n",
      "Video(4935, 92, 378):\n",
      "\t- file_path: E:\\DNA waves project\\Polarisation exp\\2021-06-16_lambda_400nguL_1_200_optosplit\\100xOil_500mbar_C2017_sola100_010.nd2\n",
      "\t- dir_file: E:\\DNA waves project\\Polarisation exp\\2021-06-16_lambda_400nguL_1_200_optosplit\n",
      "\t- file_name: 100xOil_500mbar_C2017_sola100_010.nd2\n",
      "\t- file_name0: 100xOil_500mbar_C2017_sola100_010\n",
      "\t- str_contains_img: (4935, 92, 378)\n",
      "\t- parent_folder: 2021-06-16_lambda_400nguL_1_200_optosplit\n",
      "\t- avg_exposure_time_ms: 4.32\n",
      "\t- mag: 100x\n",
      "\t- p: 500\n",
      "\t- file_nbr: 010\n",
      "\t- light_source: sola\n",
      "\t- light_source_intensity: 100.0\n",
      "\t- frame_rate: 164.8\n",
      "\t- time_start: 2021-06-16 15:49:58.736005\n",
      "\t- bit_depth: 16\n",
      "\t- width: 378\n",
      "\t- height: 92\n",
      "\t- n_frames: 4935\n",
      "\t- shape: (4935, 92, 378)\n",
      "\t- time_s: 30.0\n",
      "\t- x_um_frame0: 1304.927978515625\n",
      "\t- y_um_frame0: -4146.3232421875\n",
      "\t- scale_pix_per_um: 6.25\n"
     ]
    },
    {
     "data": {
      "image/png": "[encoded data removed]",
      "text/plain": [
       "<Figure size 432x288 with 1 Axes>"
      ]
     },
     "metadata": {
      "needs_background": "light"
     },
     "output_type": "display_data"
    },
    {
     "name": "stdout",
     "output_type": "stream",
     "text": [
      "frame_rate =  164.8\n",
      "height =  92\n"
     ]
    }
   ],
   "source": [
    "importlib.reload(nd2_handling)\n",
    "import matplotlib.pyplot as plt\n",
    "\n",
    "#Set the path of the nd2-file:\n",
    "nd2_file_path = r'E:\\DNA waves project\\Polarisation exp\\2021-06-16_lambda_400nguL_1_200_optosplit\\100xOil_500mbar_C2017_sola100_010.nd2'\n",
    "\n",
    "#Load the nd2 file\n",
    "v = nd2_handling.Video(nd2_file_path, read_img_directly=True, frame_range = [0,0])\n",
    "\n",
    "#Print all the information containing all the attributes of the object\n",
    "print(v)\n",
    "\n",
    "#Display the first frame of the image stack\n",
    "plt.imshow(v.img[0])\n",
    "plt.title('First frame')\n",
    "plt.show()\n",
    "\n",
    "#Access the attributes:\n",
    "print('frame_rate = ', v.frame_rate)\n",
    "print('height = ', v.height)"
   ]
  },
  {
   "cell_type": "markdown",
   "id": "02e386ee",
   "metadata": {},
   "source": [
    "### Loading only the metadata of an nd2 file "
   ]
  },
  {
   "cell_type": "code",
   "execution_count": 2,
   "id": "d5c57953",
   "metadata": {
    "ExecuteTime": {
     "end_time": "2021-11-29T16:29:58.726468Z",
     "start_time": "2021-11-29T16:29:57.326479Z"
    }
   },
   "outputs": [
    {
     "name": "stdout",
     "output_type": "stream",
     "text": [
      "Video(empty):\n",
      "\t- file_path: E:\\DNA waves project\\Polarisation exp\\2021-06-16_lambda_400nguL_1_200_optosplit\\100xOil_500mbar_C2017_sola100_010.nd2\n",
      "\t- dir_file: E:\\DNA waves project\\Polarisation exp\\2021-06-16_lambda_400nguL_1_200_optosplit\n",
      "\t- file_name: 100xOil_500mbar_C2017_sola100_010.nd2\n",
      "\t- file_name0: 100xOil_500mbar_C2017_sola100_010\n",
      "\t- str_contains_img: (empty)\n",
      "\t- parent_folder: 2021-06-16_lambda_400nguL_1_200_optosplit\n",
      "\t- avg_exposure_time_ms: 4.32\n",
      "\t- mag: 100x\n",
      "\t- p: 500\n",
      "\t- file_nbr: 010\n",
      "\t- light_source: sola\n",
      "\t- light_source_intensity: 100.0\n",
      "\t- frame_rate: 164.8\n",
      "\t- time_start: 2021-06-16 15:49:58.736005\n",
      "\t- bit_depth: 16\n",
      "\t- width: 378\n",
      "\t- height: 92\n",
      "\t- n_frames: 4935\n",
      "\t- shape: (4935, 92, 378)\n",
      "\t- time_s: 30.0\n",
      "\t- x_um_frame0: 1304.927978515625\n",
      "\t- y_um_frame0: -4146.3232421875\n",
      "\t- scale_pix_per_um: 6.25\n",
      "\n",
      "frame_rate =  164.8\n",
      "height =  92\n"
     ]
    },
    {
     "name": "stderr",
     "output_type": "stream",
     "text": [
      "C:\\Users\\os4875st\\Anaconda3\\lib\\site-packages\\pims\\api.py:119: UserWarning: 'ND2_Reader' has been renamed to 'ND2Reader_SDK' and will beremoved in future pims versions. Please use the new name, or try out the pure-Python one named `ND2Reader`.\n",
      "  warn(\"'ND2_Reader' has been renamed to 'ND2Reader_SDK' and will be\"\n",
      "C:\\Users\\os4875st\\Anaconda3\\lib\\site-packages\\pims\\base_frames.py:472: UserWarning: Please call FramesSequenceND.__init__() at the start of thethe reader initialization.\n",
      "  warn(\"Please call FramesSequenceND.__init__() at the start of the\"\n"
     ]
    }
   ],
   "source": [
    "import importlib\n",
    "import nd2_handling\n",
    "importlib.reload(nd2_handling)\n",
    "\n",
    "#Set the path of the nd2-file:\n",
    "nd2_file_path = r'E:\\DNA waves project\\Polarisation exp\\2021-06-16_lambda_400nguL_1_200_optosplit\\100xOil_500mbar_C2017_sola100_010.nd2'\n",
    "\n",
    "#Load the nd2 file without its metadata\n",
    "v = nd2_handling.Video(nd2_file_path, read_img_directly=False)\n",
    "print(v)\n",
    "\n",
    "#Access the attributes:\n",
    "print('\\nframe_rate = ', v.frame_rate)\n",
    "print('height = ', v.height)"
   ]
  },
  {
   "cell_type": "code",
   "execution_count": null,
   "id": "b99d2230",
   "metadata": {},
   "outputs": [],
   "source": []
  }
 ],
 "metadata": {
  "hide_input": false,
  "kernelspec": {
   "display_name": "Python 3",
   "language": "python",
   "name": "python3"
  },
  "language_info": {
   "codemirror_mode": {
    "name": "ipython",
    "version": 3
   },
   "file_extension": ".py",
   "mimetype": "text/x-python",
   "name": "python",
   "nbconvert_exporter": "python",
   "pygments_lexer": "ipython3",
   "version": "3.8.3"
  },
  "toc": {
   "base_numbering": 1,
   "nav_menu": {},
   "number_sections": true,
   "sideBar": true,
   "skip_h1_title": true,
   "title_cell": "Table of Contents",
   "title_sidebar": "Contents",
   "toc_cell": true,
   "toc_position": {},
   "toc_section_display": true,
   "toc_window_display": false
  },
  "varInspector": {
   "cols": {
    "lenName": 16,
    "lenType": 16,
    "lenVar": 40
   },
   "kernels_config": {
    "python": {
     "delete_cmd_postfix": "",
     "delete_cmd_prefix": "del ",
     "library": "var_list.py",
     "varRefreshCmd": "print(var_dic_list())"
    },
    "r": {
     "delete_cmd_postfix": ") ",
     "delete_cmd_prefix": "rm(",
     "library": "var_list.r",
     "varRefreshCmd": "cat(var_dic_list()) "
    }
   },
   "types_to_exclude": [
    "module",
    "function",
    "builtin_function_or_method",
    "instance",
    "_Feature"
   ],
   "window_display": false
  }
 },
 "nbformat": 4,
 "nbformat_minor": 5
}
