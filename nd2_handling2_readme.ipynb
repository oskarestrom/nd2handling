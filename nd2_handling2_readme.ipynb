{
 "cells": [
  {
   "cell_type": "markdown",
   "id": "17dc129b",
   "metadata": {
    "toc": true
   },
   "source": [
    "<h1>Table of Contents<span class=\"tocSkip\"></span></h1>\n",
    "<div class=\"toc\"><ul class=\"toc-item\"></ul></div>"
   ]
  },
  {
   "cell_type": "code",
   "execution_count": 4,
   "id": "64e1de4e",
   "metadata": {
    "ExecuteTime": {
     "end_time": "2021-11-29T16:02:53.775288Z",
     "start_time": "2021-11-29T16:02:53.755319Z"
    }
   },
   "outputs": [
    {
     "data": {
      "text/plain": [
       "<module 'nd2_handling' from 'C:\\\\Users\\\\os4875st\\\\.py\\\\py_DNA_waves\\\\nd2_handling.py'>"
      ]
     },
     "execution_count": 4,
     "metadata": {},
     "output_type": "execute_result"
    }
   ],
   "source": [
    "import nd2_handling\n",
    "import nd2_handling2\n",
    "import importlib\n",
    "importlib.reload(nd2_handling)"
   ]
  },
  {
   "cell_type": "code",
   "execution_count": 19,
   "id": "b96b3548",
   "metadata": {
    "ExecuteTime": {
     "end_time": "2021-11-29T16:29:19.354689Z",
     "start_time": "2021-11-29T16:29:19.284693Z"
    }
   },
   "outputs": [
    {
     "name": "stdout",
     "output_type": "stream",
     "text": [
      "Did not add the bg directory to the wave video class\n",
      "Video(empty):\n",
      "\t- file_path: E:\\DNA waves project\\Polarisation exp\\2021-06-16_lambda_400nguL_1_200_optosplit\\100xOil_500mbar_C2017_sola100_010.nd2\n",
      "\t- dir_file: E:\\DNA waves project\\Polarisation exp\\2021-06-16_lambda_400nguL_1_200_optosplit\n",
      "\t- file_name: 100xOil_500mbar_C2017_sola100_010.nd2\n",
      "\t- file_name0: 100xOil_500mbar_C2017_sola100_010\n",
      "\t- str_contains_img: (empty)\n",
      "\t- parent_folder: 2021-06-16_lambda_400nguL_1_200_optosplit\n",
      "\t- full_path: E:\\DNA waves project\\Polarisation exp\\2021-06-16_lambda_400nguL_1_200_optosplit\\100xOil_500mbar_C2017_sola100_010.nd2\n",
      "\t- avg_exposure_time_ms: 4.32\n",
      "\t- mag: 100x\n",
      "\t- p: 500\n",
      "\t- file_nbr: 010\n",
      "\t- light_source: sola\n",
      "\t- light_source_intensity: 100.0\n",
      "\t- frame_rate: 164.8\n",
      "\t- time_start: 2021-06-16 15:49:58.736005\n",
      "\t- bit_depth: 16\n",
      "\t- width: 378\n",
      "\t- height: 92\n",
      "\t- n_frames: 4935\n",
      "\t- time_s: 30.0\n",
      "\t- x_um_frame0: 1304.927978515625\n",
      "\t- y_um_frame0: -4146.3232421875\n",
      "\t- scale_pix_per_um: 6.25\n",
      "\t- dir_path_file_folder: E:\\DNA waves project\\Polarisation exp\\2021-06-16_lambda_400nguL_1_200_optosplit\\100xOil_500mbar_C2017_sola100_010\n",
      "\t- dir_pixelated_files: E:\\DNA waves project\\Polarisation exp\\2021-06-16_lambda_400nguL_1_200_optosplit\\100xOil_500mbar_C2017_sola100_010\\pixelated\n",
      "\n",
      "frame_rate =  164.8\n",
      "height =  92\n"
     ]
    }
   ],
   "source": [
    "importlib.reload(nd2_handling2)\n",
    "\n",
    "#Set the path of the nd2-file:\n",
    "nd2_file_path = r'E:\\DNA waves project\\Polarisation exp\\2021-06-16_lambda_400nguL_1_200_optosplit\\100xOil_500mbar_C2017_sola100_010.nd2'\n",
    "\n",
    "#Load the nd2 file without its metadata\n",
    "v = nd2_handling2.Video_waves(nd2_file_path, read_img_directly=False)\n",
    "print(v)\n",
    "\n",
    "#Access the attributes:\n",
    "print('\\nframe_rate = ', v.frame_rate)\n",
    "print('height = ', v.height)"
   ]
  },
  {
   "cell_type": "code",
   "execution_count": 20,
   "id": "422b6fa4",
   "metadata": {
    "ExecuteTime": {
     "end_time": "2021-11-29T18:16:23.034309Z",
     "start_time": "2021-11-29T18:16:23.014306Z"
    }
   },
   "outputs": [
    {
     "data": {
      "text/plain": [
       "'500'"
      ]
     },
     "execution_count": 20,
     "metadata": {},
     "output_type": "execute_result"
    }
   ],
   "source": []
  },
  {
   "cell_type": "code",
   "execution_count": 18,
   "id": "8bf85faa",
   "metadata": {
    "ExecuteTime": {
     "end_time": "2021-11-29T16:27:23.260865Z",
     "start_time": "2021-11-29T16:27:23.240819Z"
    }
   },
   "outputs": [
    {
     "ename": "AttributeError",
     "evalue": "'tuple' object has no attribute 'dtype'",
     "output_type": "error",
     "traceback": [
      "\u001b[1;31m---------------------------------------------------------------------------\u001b[0m",
      "\u001b[1;31mAttributeError\u001b[0m                            Traceback (most recent call last)",
      "\u001b[1;32m<ipython-input-18-65906db2a9c3>\u001b[0m in \u001b[0;36m<module>\u001b[1;34m\u001b[0m\n\u001b[0;32m      1\u001b[0m \u001b[0mA\u001b[0m \u001b[1;33m=\u001b[0m \u001b[0mnp\u001b[0m\u001b[1;33m.\u001b[0m\u001b[0marray\u001b[0m\u001b[1;33m(\u001b[0m\u001b[1;33m[\u001b[0m\u001b[1;36m1\u001b[0m\u001b[1;33m,\u001b[0m\u001b[1;36m2\u001b[0m\u001b[1;33m]\u001b[0m\u001b[1;33m)\u001b[0m\u001b[1;33m\u001b[0m\u001b[1;33m\u001b[0m\u001b[0m\n\u001b[1;32m----> 2\u001b[1;33m \u001b[0mA\u001b[0m\u001b[1;33m.\u001b[0m\u001b[0mshape\u001b[0m\u001b[1;33m.\u001b[0m\u001b[0mdtype\u001b[0m\u001b[1;33m\u001b[0m\u001b[1;33m\u001b[0m\u001b[0m\n\u001b[0m",
      "\u001b[1;31mAttributeError\u001b[0m: 'tuple' object has no attribute 'dtype'"
     ]
    }
   ],
   "source": []
  },
  {
   "cell_type": "code",
   "execution_count": null,
   "id": "a80a7c32",
   "metadata": {},
   "outputs": [],
   "source": []
  }
 ],
 "metadata": {
  "hide_input": false,
  "kernelspec": {
   "display_name": "Python 3",
   "language": "python",
   "name": "python3"
  },
  "language_info": {
   "codemirror_mode": {
    "name": "ipython",
    "version": 3
   },
   "file_extension": ".py",
   "mimetype": "text/x-python",
   "name": "python",
   "nbconvert_exporter": "python",
   "pygments_lexer": "ipython3",
   "version": "3.8.3"
  },
  "toc": {
   "base_numbering": 1,
   "nav_menu": {},
   "number_sections": true,
   "sideBar": true,
   "skip_h1_title": true,
   "title_cell": "Table of Contents",
   "title_sidebar": "Contents",
   "toc_cell": true,
   "toc_position": {},
   "toc_section_display": true,
   "toc_window_display": false
  },
  "varInspector": {
   "cols": {
    "lenName": 16,
    "lenType": 16,
    "lenVar": 40
   },
   "kernels_config": {
    "python": {
     "delete_cmd_postfix": "",
     "delete_cmd_prefix": "del ",
     "library": "var_list.py",
     "varRefreshCmd": "print(var_dic_list())"
    },
    "r": {
     "delete_cmd_postfix": ") ",
     "delete_cmd_prefix": "rm(",
     "library": "var_list.r",
     "varRefreshCmd": "cat(var_dic_list()) "
    }
   },
   "types_to_exclude": [
    "module",
    "function",
    "builtin_function_or_method",
    "instance",
    "_Feature"
   ],
   "window_display": false
  }
 },
 "nbformat": 4,
 "nbformat_minor": 5
}
